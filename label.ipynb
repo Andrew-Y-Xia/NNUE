{
 "cells": [
  {
   "cell_type": "code",
   "execution_count": 1,
   "id": "24c00246-dbd4-42ff-aa56-9195af90d13e",
   "metadata": {},
   "outputs": [],
   "source": [
    "import chess\n",
    "import chess.engine\n",
    "import chess.pgn"
   ]
  },
  {
   "cell_type": "code",
   "execution_count": 2,
   "id": "808c30ce-b7b5-4efb-87ca-4e4bfb7274b8",
   "metadata": {},
   "outputs": [],
   "source": [
    "engine = chess.engine.SimpleEngine.popen_uci(\"/usr/local/Cellar/stockfish/13/bin/stockfish\")\n",
    "pgn = open(\"/Users/andy/Downloads/lichess_elite_2020-08.pgn\")"
   ]
  },
  {
   "cell_type": "code",
   "execution_count": null,
   "id": "1c918e22-2d59-4ff4-95e1-f1b8228d845e",
   "metadata": {},
   "outputs": [],
   "source": [
    "with open(\"stockfish_labeled.txt\", \"w\") as f:\n",
    "    while True:\n",
    "        game = chess.pgn.read_game(pgn)\n",
    "        if game is None:\n",
    "            break\n",
    "        \n",
    "        board = game.board()\n",
    "        for index, move in enumerate(game.mainline_moves()):\n",
    "            board.push(move)\n",
    "            if (index < 10):\n",
    "                continue\n",
    "            info = engine.analyse(board, chess.engine.Limit(time=0.1))\n",
    "            if not info[\"score\"].is_mate():\n",
    "                f.write(board.fen() + \" | \" + str(info[\"score\"].white().score()))\n",
    "                f.write(\"\\n\")"
   ]
  },
  {
   "cell_type": "code",
   "execution_count": null,
   "id": "fdae144d-afda-4892-8fa7-4f0aa94f98a2",
   "metadata": {},
   "outputs": [],
   "source": [
    "pgn.close();"
   ]
  },
  {
   "cell_type": "code",
   "execution_count": null,
   "id": "5e6021d6-58a0-4360-8d2b-456d9ae0b56c",
   "metadata": {},
   "outputs": [],
   "source": []
  }
 ],
 "metadata": {
  "kernelspec": {
   "display_name": "Python 3",
   "language": "python",
   "name": "python3"
  },
  "language_info": {
   "codemirror_mode": {
    "name": "ipython",
    "version": 3
   },
   "file_extension": ".py",
   "mimetype": "text/x-python",
   "name": "python",
   "nbconvert_exporter": "python",
   "pygments_lexer": "ipython3",
   "version": "3.8.11"
  }
 },
 "nbformat": 4,
 "nbformat_minor": 5
}
